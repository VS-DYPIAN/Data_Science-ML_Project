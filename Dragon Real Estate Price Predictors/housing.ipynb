{
 "cells": [
  {
   "cell_type": "markdown",
   "id": "9fc48b6d",
   "metadata": {},
   "source": [
    "## Dragon Real Estate - Price Predictor"
   ]
  },
  {
   "cell_type": "code",
   "execution_count": 1,
   "id": "5011100f",
   "metadata": {},
   "outputs": [],
   "source": [
    "import pandas as pd\n",
    "import numpy as np\n",
    "import sklearn\n",
    "import matplotlib.pyplot as plt"
   ]
  },
  {
   "cell_type": "code",
   "execution_count": 2,
   "id": "dbb81cab",
   "metadata": {},
   "outputs": [],
   "source": [
    "housing = pd.read_csv(\"data.csv\")"
   ]
  },
  {
   "cell_type": "code",
   "execution_count": 3,
   "id": "1ef7a3c7",
   "metadata": {},
   "outputs": [
    {
     "data": {
      "text/html": [
       "<div>\n",
       "<style scoped>\n",
       "    .dataframe tbody tr th:only-of-type {\n",
       "        vertical-align: middle;\n",
       "    }\n",
       "\n",
       "    .dataframe tbody tr th {\n",
       "        vertical-align: top;\n",
       "    }\n",
       "\n",
       "    .dataframe thead th {\n",
       "        text-align: right;\n",
       "    }\n",
       "</style>\n",
       "<table border=\"1\" class=\"dataframe\">\n",
       "  <thead>\n",
       "    <tr style=\"text-align: right;\">\n",
       "      <th></th>\n",
       "      <th>crim</th>\n",
       "      <th>zn</th>\n",
       "      <th>indus</th>\n",
       "      <th>chas</th>\n",
       "      <th>nox</th>\n",
       "      <th>rm</th>\n",
       "      <th>age</th>\n",
       "      <th>dis</th>\n",
       "      <th>rad</th>\n",
       "      <th>tax</th>\n",
       "      <th>ptratio</th>\n",
       "      <th>b</th>\n",
       "      <th>lstat</th>\n",
       "      <th>medv</th>\n",
       "    </tr>\n",
       "  </thead>\n",
       "  <tbody>\n",
       "    <tr>\n",
       "      <th>0</th>\n",
       "      <td>0.00632</td>\n",
       "      <td>18.0</td>\n",
       "      <td>2.31</td>\n",
       "      <td>0</td>\n",
       "      <td>0.538</td>\n",
       "      <td>6.575</td>\n",
       "      <td>65.2</td>\n",
       "      <td>4.0900</td>\n",
       "      <td>1</td>\n",
       "      <td>296</td>\n",
       "      <td>15.3</td>\n",
       "      <td>396.90</td>\n",
       "      <td>4.98</td>\n",
       "      <td>24.0</td>\n",
       "    </tr>\n",
       "    <tr>\n",
       "      <th>1</th>\n",
       "      <td>0.02731</td>\n",
       "      <td>0.0</td>\n",
       "      <td>7.07</td>\n",
       "      <td>0</td>\n",
       "      <td>0.469</td>\n",
       "      <td>6.421</td>\n",
       "      <td>78.9</td>\n",
       "      <td>4.9671</td>\n",
       "      <td>2</td>\n",
       "      <td>242</td>\n",
       "      <td>17.8</td>\n",
       "      <td>396.90</td>\n",
       "      <td>9.14</td>\n",
       "      <td>21.6</td>\n",
       "    </tr>\n",
       "    <tr>\n",
       "      <th>2</th>\n",
       "      <td>0.02729</td>\n",
       "      <td>0.0</td>\n",
       "      <td>7.07</td>\n",
       "      <td>0</td>\n",
       "      <td>0.469</td>\n",
       "      <td>7.185</td>\n",
       "      <td>61.1</td>\n",
       "      <td>4.9671</td>\n",
       "      <td>2</td>\n",
       "      <td>242</td>\n",
       "      <td>17.8</td>\n",
       "      <td>392.83</td>\n",
       "      <td>4.03</td>\n",
       "      <td>34.7</td>\n",
       "    </tr>\n",
       "    <tr>\n",
       "      <th>3</th>\n",
       "      <td>0.03237</td>\n",
       "      <td>0.0</td>\n",
       "      <td>2.18</td>\n",
       "      <td>0</td>\n",
       "      <td>0.458</td>\n",
       "      <td>6.998</td>\n",
       "      <td>45.8</td>\n",
       "      <td>6.0622</td>\n",
       "      <td>3</td>\n",
       "      <td>222</td>\n",
       "      <td>18.7</td>\n",
       "      <td>394.63</td>\n",
       "      <td>2.94</td>\n",
       "      <td>33.4</td>\n",
       "    </tr>\n",
       "    <tr>\n",
       "      <th>4</th>\n",
       "      <td>0.06905</td>\n",
       "      <td>0.0</td>\n",
       "      <td>2.18</td>\n",
       "      <td>0</td>\n",
       "      <td>0.458</td>\n",
       "      <td>7.147</td>\n",
       "      <td>54.2</td>\n",
       "      <td>6.0622</td>\n",
       "      <td>3</td>\n",
       "      <td>222</td>\n",
       "      <td>18.7</td>\n",
       "      <td>396.90</td>\n",
       "      <td>5.33</td>\n",
       "      <td>36.2</td>\n",
       "    </tr>\n",
       "  </tbody>\n",
       "</table>\n",
       "</div>"
      ],
      "text/plain": [
       "      crim    zn  indus  chas    nox     rm   age     dis  rad  tax  ptratio  \\\n",
       "0  0.00632  18.0   2.31     0  0.538  6.575  65.2  4.0900    1  296     15.3   \n",
       "1  0.02731   0.0   7.07     0  0.469  6.421  78.9  4.9671    2  242     17.8   \n",
       "2  0.02729   0.0   7.07     0  0.469  7.185  61.1  4.9671    2  242     17.8   \n",
       "3  0.03237   0.0   2.18     0  0.458  6.998  45.8  6.0622    3  222     18.7   \n",
       "4  0.06905   0.0   2.18     0  0.458  7.147  54.2  6.0622    3  222     18.7   \n",
       "\n",
       "        b  lstat  medv  \n",
       "0  396.90   4.98  24.0  \n",
       "1  396.90   9.14  21.6  \n",
       "2  392.83   4.03  34.7  \n",
       "3  394.63   2.94  33.4  \n",
       "4  396.90   5.33  36.2  "
      ]
     },
     "execution_count": 3,
     "metadata": {},
     "output_type": "execute_result"
    }
   ],
   "source": [
    "housing.head()"
   ]
  },
  {
   "cell_type": "code",
   "execution_count": 4,
   "id": "dfe41921",
   "metadata": {},
   "outputs": [
    {
     "name": "stdout",
     "output_type": "stream",
     "text": [
      "<class 'pandas.core.frame.DataFrame'>\n",
      "RangeIndex: 506 entries, 0 to 505\n",
      "Data columns (total 14 columns):\n",
      " #   Column   Non-Null Count  Dtype  \n",
      "---  ------   --------------  -----  \n",
      " 0   crim     506 non-null    float64\n",
      " 1   zn       506 non-null    float64\n",
      " 2   indus    506 non-null    float64\n",
      " 3   chas     506 non-null    int64  \n",
      " 4   nox      506 non-null    float64\n",
      " 5   rm       501 non-null    float64\n",
      " 6   age      506 non-null    float64\n",
      " 7   dis      506 non-null    float64\n",
      " 8   rad      506 non-null    int64  \n",
      " 9   tax      506 non-null    int64  \n",
      " 10  ptratio  506 non-null    float64\n",
      " 11  b        506 non-null    float64\n",
      " 12  lstat    506 non-null    float64\n",
      " 13  medv     506 non-null    float64\n",
      "dtypes: float64(11), int64(3)\n",
      "memory usage: 55.5 KB\n"
     ]
    }
   ],
   "source": [
    "housing.info()"
   ]
  },
  {
   "cell_type": "code",
   "execution_count": null,
   "id": "02d5cb2a",
   "metadata": {},
   "outputs": [],
   "source": [
    "housing['chas'].value_counts()"
   ]
  },
  {
   "cell_type": "code",
   "execution_count": null,
   "id": "f7ee2d03",
   "metadata": {},
   "outputs": [],
   "source": [
    "housing.describe()"
   ]
  },
  {
   "cell_type": "code",
   "execution_count": null,
   "id": "79aa6762",
   "metadata": {},
   "outputs": [],
   "source": [
    "\"\"\"%matplotlib inline\n",
    "housing.hist(bins=50,figsize=(20,15))\"\"\""
   ]
  },
  {
   "cell_type": "markdown",
   "id": "06d8a2b4",
   "metadata": {},
   "source": [
    "## Train-Test Splitting"
   ]
  },
  {
   "cell_type": "code",
   "execution_count": null,
   "id": "40091431",
   "metadata": {},
   "outputs": [],
   "source": [
    "\"\"\"def split_train_test(data,test_ratio):\n",
    "    np.random.seed(42)\n",
    "    shuffled = np.random.permutation(len(data))\n",
    "    print(shuffled)\n",
    "    test_set_size=int (len(data)* test_ratio)\n",
    "    test_indices = shuffled[:test_set_size]\n",
    "    train_indices = shuffled[test_set_size : ]\n",
    "    return data.iloc[train_indices],data.iloc[test_indices]\"\"\""
   ]
  },
  {
   "cell_type": "code",
   "execution_count": null,
   "id": "b61aa7df",
   "metadata": {},
   "outputs": [],
   "source": [
    "#train_set ,test_set = split_train_test(housing,0.2)"
   ]
  },
  {
   "cell_type": "code",
   "execution_count": null,
   "id": "52e0e21c",
   "metadata": {},
   "outputs": [],
   "source": [
    "#print(f\"Rows in train set : {len(train_set)}\\nRows in test set :{len(test_set)}\\n\")"
   ]
  },
  {
   "cell_type": "code",
   "execution_count": null,
   "id": "8429b32b",
   "metadata": {},
   "outputs": [],
   "source": [
    "from sklearn.model_selection import train_test_split\n",
    "train_set ,test_set=train_test_split(housing,test_size=0.2,random_state=42)\n",
    "print(f\"Rows in train set : {len(train_set)}\\nRows in test set :{len(test_set)}\\n\")"
   ]
  },
  {
   "cell_type": "code",
   "execution_count": null,
   "id": "c69797e2",
   "metadata": {},
   "outputs": [],
   "source": [
    "from sklearn.model_selection import StratifiedShuffleSplit\n",
    "spilt = StratifiedShuffleSplit(n_splits=1,test_size=0.2,random_state=42)\n",
    "for train_index, test_index in spilt.split(housing, housing['chas']):\n",
    "    strat_train_set =housing.loc[train_index]\n",
    "    strat_test_set=housing.loc[test_index]\n"
   ]
  },
  {
   "cell_type": "code",
   "execution_count": null,
   "id": "c0ea4243",
   "metadata": {},
   "outputs": [],
   "source": [
    "housing=strat_train_set.copy()"
   ]
  },
  {
   "cell_type": "code",
   "execution_count": null,
   "id": "a58f515f",
   "metadata": {},
   "outputs": [],
   "source": [
    "strat_train_set.describe()"
   ]
  },
  {
   "cell_type": "code",
   "execution_count": null,
   "id": "5bd4b222",
   "metadata": {},
   "outputs": [],
   "source": [
    "strat_train_set['chas'].value_counts()"
   ]
  },
  {
   "cell_type": "markdown",
   "id": "6233ccc2",
   "metadata": {},
   "source": [
    "## Looking for correletions"
   ]
  },
  {
   "cell_type": "code",
   "execution_count": null,
   "id": "44153806",
   "metadata": {},
   "outputs": [],
   "source": [
    "corr_matrix = housing.corr()\n",
    "corr_matrix['medv'].sort_values(ascending=False)"
   ]
  },
  {
   "cell_type": "code",
   "execution_count": null,
   "id": "9ca2420a",
   "metadata": {},
   "outputs": [],
   "source": [
    "# 1 means strong correlations"
   ]
  },
  {
   "cell_type": "code",
   "execution_count": null,
   "id": "416eb62e",
   "metadata": {},
   "outputs": [],
   "source": [
    "from pandas.plotting import scatter_matrix\n",
    "attributes =[\"medv\",\"rm\",\"zn\",\"lstat\"]\n",
    "scatter_matrix(housing[attributes],figsize=(12,8))"
   ]
  },
  {
   "cell_type": "code",
   "execution_count": null,
   "id": "081e6337",
   "metadata": {},
   "outputs": [],
   "source": [
    "housing.plot(kind='scatter',x='rm',y='medv',alpha=0.5)"
   ]
  },
  {
   "cell_type": "code",
   "execution_count": null,
   "id": "27c582b7",
   "metadata": {},
   "outputs": [],
   "source": [
    "housing.plot(kind='scatter',x='lstat',y='medv',alpha=0.5)"
   ]
  },
  {
   "cell_type": "markdown",
   "id": "07b0927d",
   "metadata": {},
   "source": [
    "## Trying out Attribute combinations "
   ]
  },
  {
   "cell_type": "code",
   "execution_count": null,
   "id": "cc45a79c",
   "metadata": {},
   "outputs": [],
   "source": [
    "housing['TAXRM']=housing['tax']/housing['rm']"
   ]
  },
  {
   "cell_type": "code",
   "execution_count": null,
   "id": "a2b6390f",
   "metadata": {},
   "outputs": [],
   "source": [
    "housing.plot(kind='scatter',x='TAXRM',y='medv',alpha=0.5)#REMOVE OUTLIER"
   ]
  },
  {
   "cell_type": "markdown",
   "id": "1e3fe9ba",
   "metadata": {},
   "source": [
    "## Handling MISSING values"
   ]
  },
  {
   "cell_type": "code",
   "execution_count": null,
   "id": "d1248ca0",
   "metadata": {},
   "outputs": [],
   "source": [
    "housing.describe()"
   ]
  },
  {
   "cell_type": "code",
   "execution_count": null,
   "id": "555cdfa8",
   "metadata": {},
   "outputs": [],
   "source": [
    "#rm value are missing .To take care of missing values ,Three options\n",
    "#1.Get rid of missing data points\n",
    "#2.Get rid of whole attribute\n",
    "#3.Mean imputation,meadian imputaions"
   ]
  },
  {
   "cell_type": "code",
   "execution_count": null,
   "id": "01b245ce",
   "metadata": {},
   "outputs": [],
   "source": [
    "#drop values\n",
    "a=housing.dropna(subset=[\"rm\"]).shape\n",
    "#a.shape"
   ]
  },
  {
   "cell_type": "code",
   "execution_count": null,
   "id": "77ae3623",
   "metadata": {},
   "outputs": [],
   "source": [
    "housing.drop(\"rm\",axis=1).shape\n",
    "#rm caloum get dropped and originalhousing data will not get changed "
   ]
  },
  {
   "cell_type": "code",
   "execution_count": null,
   "id": "d7cfd388",
   "metadata": {},
   "outputs": [],
   "source": [
    "median=housing['rm'].median()"
   ]
  },
  {
   "cell_type": "code",
   "execution_count": null,
   "id": "ef5a2fb7",
   "metadata": {},
   "outputs": [],
   "source": [
    "#Option 3\n",
    "housing[\"rm\"].fillna(median)\n",
    "#originalhousing data will not get changed and if you want to change set implace= true"
   ]
  },
  {
   "cell_type": "code",
   "execution_count": null,
   "id": "b87c6aef",
   "metadata": {},
   "outputs": [],
   "source": [
    "housing.describe()"
   ]
  },
  {
   "cell_type": "code",
   "execution_count": null,
   "id": "bde82c98",
   "metadata": {},
   "outputs": [],
   "source": [
    "from sklearn.impute import SimpleImputer\n",
    "imputer = SimpleImputer(strategy=\"median\")\n",
    "imputer.fit(housing)"
   ]
  },
  {
   "cell_type": "code",
   "execution_count": null,
   "id": "86013590",
   "metadata": {},
   "outputs": [],
   "source": [
    "imputer.statistics_"
   ]
  },
  {
   "cell_type": "code",
   "execution_count": null,
   "id": "87835d13",
   "metadata": {},
   "outputs": [],
   "source": [
    "imputer.statistics_.shape"
   ]
  },
  {
   "cell_type": "code",
   "execution_count": null,
   "id": "aa959973",
   "metadata": {},
   "outputs": [],
   "source": [
    "x= imputer.transform(housing)"
   ]
  },
  {
   "cell_type": "code",
   "execution_count": null,
   "id": "b86e9cc7",
   "metadata": {},
   "outputs": [],
   "source": [
    "housing_tr = pd.DataFrame(x,columns=housing.columns)"
   ]
  },
  {
   "cell_type": "code",
   "execution_count": null,
   "id": "418777b7",
   "metadata": {},
   "outputs": [],
   "source": [
    "housing_tr.describe()\n",
    "#we have imputed median and fitted into our data"
   ]
  },
  {
   "cell_type": "markdown",
   "id": "67e5fd62",
   "metadata": {},
   "source": [
    "## Scikit-learn Design"
   ]
  },
  {
   "cell_type": "markdown",
   "id": "d4804f03",
   "metadata": {},
   "source": [
    "Primarily 3 types of objects \n",
    "1. Estimators - ex : Imputer- It has fit method and transform method.  Fit - fits in dataset and calculates internal parameters\n",
    "\n",
    "2. Transforms transform - it takes input and returns transformed output. fit_transform() method \n",
    "\n",
    "3. Predictors : Linear Regression ,KNN. Two funstions:-fit(),predict(), score function"
   ]
  },
  {
   "cell_type": "markdown",
   "id": "a50fe925",
   "metadata": {},
   "source": [
    "## Creating a Pipeline"
   ]
  },
  {
   "cell_type": "code",
   "execution_count": null,
   "id": "2d58bc4d",
   "metadata": {},
   "outputs": [],
   "source": [
    "from sklearn.pipeline import Pipeline\n"
   ]
  }
 ],
 "metadata": {
  "kernelspec": {
   "display_name": "Python 3 (ipykernel)",
   "language": "python",
   "name": "python3"
  },
  "language_info": {
   "codemirror_mode": {
    "name": "ipython",
    "version": 3
   },
   "file_extension": ".py",
   "mimetype": "text/x-python",
   "name": "python",
   "nbconvert_exporter": "python",
   "pygments_lexer": "ipython3",
   "version": "3.9.10"
  }
 },
 "nbformat": 4,
 "nbformat_minor": 5
}
